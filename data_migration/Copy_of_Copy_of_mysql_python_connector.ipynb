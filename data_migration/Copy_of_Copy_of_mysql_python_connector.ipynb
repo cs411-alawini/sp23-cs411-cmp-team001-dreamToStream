{
  "nbformat": 4,
  "nbformat_minor": 0,
  "metadata": {
    "colab": {
      "provenance": []
    },
    "kernelspec": {
      "name": "python3",
      "display_name": "Python 3"
    },
    "language_info": {
      "name": "python"
    }
  },
  "cells": [
    {
      "cell_type": "code",
      "execution_count": null,
      "metadata": {
        "id": "copyright"
      },
      "outputs": [],
      "source": [
        "# Copyright 2022 Google LLC\n",
        "#\n",
        "# Licensed under the Apache License, Version 2.0 (the \"License\");\n",
        "# you may not use this file except in compliance with the License.\n",
        "# You may obtain a copy of the License at\n",
        "#\n",
        "#     https://www.apache.org/licenses/LICENSE-2.0\n",
        "#\n",
        "# Unless required by applicable law or agreed to in writing, software\n",
        "# distributed under the License is distributed on an \"AS IS\" BASIS,\n",
        "# WITHOUT WARRANTIES OR CONDITIONS OF ANY KIND, either express or implied.\n",
        "# See the License for the specific language governing permissions and\n",
        "# limitations under the License."
      ]
    },
    {
      "cell_type": "markdown",
      "metadata": {
        "id": "DRyGcAepAPJ5"
      },
      "source": [
        "[![Open In Colab](https://colab.research.google.com/assets/colab-badge.svg)](https://colab.research.google.com/github/GoogleCloudPlatform/cloud-sql-python-connector/blob/main/samples/notebooks/mysql_python_connector.ipynb)\n",
        "# **Connect to Cloud SQL using the Cloud SQL Python Connector**\n",
        "\n",
        "---\n",
        "\n",
        "This notebook will be demonstrating how to connect and query data from a Cloud SQL database in an easy and efficient way all from within a jupyter style notebook! Let's have some fun!\n"
      ]
    },
    {
      "cell_type": "markdown",
      "source": [
        "### 📒 Using this interactive notebook\n",
        "\n",
        "Click the **run** icons ▶️  of each section within this notebook.\n",
        "\n",
        "> 💡 Alternatively, you can run the currently selected cell with `Ctrl + Enter` (or `⌘ + Enter` on a Mac).\n",
        "\n",
        "> ⚠️ **To avoid any errors**, wait for each section to finish in their order before clicking the next “run” icon.\n",
        "\n",
        "This sample must be connected to a **Google Cloud project**, but nothing else is needed other than your Google Cloud project.\n",
        "\n",
        "You can use an existing project. Alternatively, you can create a new Cloud project [with cloud credits for free.](https://cloud.google.com/free/docs/gcp-free-tier)"
      ],
      "metadata": {
        "id": "jsWGZW_fUJjN"
      }
    },
    {
      "cell_type": "markdown",
      "metadata": {
        "id": "DKIF_wOiD9Nx"
      },
      "source": [
        "## 🐍  **Cloud SQL Python Connector**\n",
        "To connect and access our Cloud SQL database instance(s) we will leverage the [Cloud SQL Python Connector](https://github.com/GoogleCloudPlatform/cloud-sql-python-connector).\n",
        "\n",
        "The Cloud SQL Python Connector is a library that can be used alongside a database driver to allow users to easily connect to a Cloud SQL database without having to manually allowlist IP or manage SSL certificates. 🥳 🎉 🤩"
      ]
    },
    {
      "cell_type": "markdown",
      "source": [
        "### ♥️ Benefits of Using a Connector\n",
        "Using a Cloud SQL connector provides the following benefits:\n",
        "\n",
        "- 🔑 **IAM Authorization**: uses IAM permissions to control who/what can connect to your Cloud SQL instances.\n",
        "- 🔒 **Improved Security**: uses robust, updated TLS 1.3 encryption and identity verification between the client connector and the server-side proxy, independent of the database protocol.\n",
        "- 👍 **Convenience**: removes the requirement to use and distribute SSL certificates, as well as manage firewalls or source/destination IP addresses.\n",
        "- 🪪 **IAM DB Authentication** (optional): provides support for Cloud SQL’s automatic IAM DB AuthN feature."
      ],
      "metadata": {
        "id": "iJcxJ7NVTMJn"
      }
    },
    {
      "cell_type": "markdown",
      "source": [
        "### 📱 Supported Dialects/Drivers\n",
        "Google Cloud SQL and the Python Connector currently support the following dialects of SQL: **MySQL**, **PostgreSQL**, and **SQL Server**.\n",
        "\n",
        "Depending on which dialect you are using for your relational database(s) the Python Connector will utilize a different database driver.\n",
        "\n",
        "SUPPORTED DRIVERS:\n",
        "\n",
        "*   **pymysql** (MySQL) 🐬\n",
        "*   **pg8000** (PostgreSQL) 🐘\n",
        "*   **pytds** (SQL Server) 🗄\n",
        "\n",
        "Therefore, depending on the dialect of your database you will need to switch to the corresponding notebook!\n",
        "\n",
        "📗 [**MySQL Notebook**](https://colab.research.google.com/github/GoogleCloudPlatform/cloud-sql-python-connector/blob/main/samples/notebooks/mysql_python_connector.ipynb) (this notebook)\n",
        "\n",
        "📘 [**PostgreSQL Notebook**](https://colab.research.google.com/github/GoogleCloudPlatform/cloud-sql-python-connector/blob/main/samples/notebooks/postgres_python_connector.ipynb)\n",
        "\n",
        "📕 [**SQL Server Notebook**](https://colab.research.google.com/github/GoogleCloudPlatform/cloud-sql-python-connector/blob/main/samples/notebooks/sqlserver_python_connector.ipynb)"
      ],
      "metadata": {
        "id": "7Pb7xJmIWOwQ"
      }
    },
    {
      "cell_type": "markdown",
      "metadata": {
        "id": "RicDCkdI-hmp"
      },
      "source": [
        "## 🚧 **Getting Started**\n",
        "This notebook requires the following steps to be completed in order to successfully make Cloud SQL connections with the Cloud SQL Python Connector."
      ]
    },
    {
      "cell_type": "markdown",
      "source": [
        "### 🔐 Authenticate to Google Cloud within Colab\n",
        "Authenticate to Google Cloud as the IAM user logged into this notebook in order to access your Google Cloud Project."
      ],
      "metadata": {
        "id": "yygMe6rPWxHS"
      }
    },
    {
      "cell_type": "code",
      "source": [
        "from google.colab import auth\n",
        "\n",
        "auth.authenticate_user()"
      ],
      "metadata": {
        "id": "PTXN1_DSXj2b"
      },
      "execution_count": 13,
      "outputs": []
    },
    {
      "cell_type": "markdown",
      "source": [
        "### 🔗 Connect Your Google Cloud Project\n",
        "Time to connect your Google Cloud Project to this notebook so that you can leverage Google Cloud from within Colab. 🏅 😀"
      ],
      "metadata": {
        "id": "p4W6FPnrYEE8"
      }
    },
    {
      "cell_type": "code",
      "execution_count": 16,
      "metadata": {
        "id": "fVz5zhvZ1mM3",
        "cellView": "form",
        "colab": {
          "base_uri": "https://localhost:8080/"
        },
        "outputId": "d709f318-27a8-4386-b4b6-aa26bb40a578"
      },
      "outputs": [
        {
          "output_type": "stream",
          "name": "stdout",
          "text": [
            "Updated property [core/project].\n"
          ]
        }
      ],
      "source": [
        "#@markdown Please fill in the value below with your GCP project ID and then run the cell.\n",
        "\n",
        "# Please fill in these values.\n",
        "project_id = \"dream-to-stream\" #@param {type:\"string\"}\n",
        "\n",
        "# Quick input validations.\n",
        "assert project_id, \"⚠️ Please provide a Google Cloud project ID\"\n",
        "\n",
        "# Configure gcloud.\n",
        "!gcloud config set project {project_id}"
      ]
    },
    {
      "cell_type": "markdown",
      "source": [
        "### ☁ Configure Your Google Cloud Project\n",
        "Configure the following in your Google Cloud Project.\n",
        "\n",
        "1. IAM principal (user, service account, etc.) with the\n",
        "[Cloud SQL Client][client-role] role.\n",
        "\n",
        "> 🚨 The user logged into this notebook will be used as the IAM principal and will be granted the Cloud SQL Client role.\n",
        "\n",
        "[client-role]: https://cloud.google.com/sql/docs/mysql/roles-and-permissions"
      ],
      "metadata": {
        "id": "E-tKXYuhiGrf"
      }
    },
    {
      "cell_type": "code",
      "source": [
        "# grant Cloud SQL Client role to authenticated user\n",
        "current_user = !gcloud auth list --filter=status:ACTIVE --format=\"value(account)\"\n",
        "\n",
        "!gcloud projects add-iam-policy-binding {project_id} \\\n",
        "  --member=user:{current_user[0]} \\\n",
        "  --role=\"roles/cloudsql.client\""
      ],
      "metadata": {
        "id": "wGvqU18ga9EU",
        "colab": {
          "base_uri": "https://localhost:8080/"
        },
        "outputId": "392193ae-31de-4b2f-cff4-a2d93323e1ec"
      },
      "execution_count": 17,
      "outputs": [
        {
          "output_type": "stream",
          "name": "stdout",
          "text": [
            "Updated IAM policy for project [dream-to-stream].\n",
            "bindings:\n",
            "- members:\n",
            "  - user:adzlam116@gmail.com\n",
            "  - user:mohammad.a.zayyad@gmail.com\n",
            "  - user:rohansreenivasan5@gmail.com\n",
            "  role: roles/cloudsql.client\n",
            "- members:\n",
            "  - serviceAccount:service-10869121041@compute-system.iam.gserviceaccount.com\n",
            "  role: roles/compute.serviceAgent\n",
            "- members:\n",
            "  - serviceAccount:10869121041-compute@developer.gserviceaccount.com\n",
            "  - serviceAccount:10869121041@cloudservices.gserviceaccount.com\n",
            "  role: roles/editor\n",
            "- members:\n",
            "  - user:Divya.manirajan@gmail.com\n",
            "  - user:adzlam116@gmail.com\n",
            "  - user:mohammad.a.zayyad@gmail.com\n",
            "  - user:rohansreenivasan5@gmail.com\n",
            "  role: roles/owner\n",
            "etag: BwX1ozkRfXs=\n",
            "version: 1\n"
          ]
        }
      ]
    },
    {
      "cell_type": "markdown",
      "source": [
        "2. Enable the [Cloud SQL Admin API][admin-api] within your project.\n",
        "\n",
        "[admin-api]: https://console.cloud.google.com/apis/api/sqladmin.googleapis.com"
      ],
      "metadata": {
        "id": "JOGTWn0aa9XJ"
      }
    },
    {
      "cell_type": "code",
      "source": [
        "# enable Cloud SQL Admin API\n",
        "!gcloud services enable sqladmin.googleapis.com"
      ],
      "metadata": {
        "id": "2eFEoT_1biht"
      },
      "execution_count": 18,
      "outputs": []
    },
    {
      "cell_type": "markdown",
      "source": [
        "## ☁️ Setting up Cloud SQL\n",
        "A **MySQL** Cloud SQL instance is required for the following stages of this notebook."
      ],
      "metadata": {
        "id": "noWgbDQQO7mr"
      }
    },
    {
      "cell_type": "markdown",
      "metadata": {
        "id": "ypjpse8yBRdI"
      },
      "source": [
        "###💽 **Create a MySQL Instance**\n",
        "Running the below cell will verify the existence of a Cloud SQL instance or create a new one if one does not exist.\n",
        "\n",
        "> ⏳ - Creating a Cloud SQL instance may take a few minutes."
      ]
    },
    {
      "cell_type": "code",
      "source": [
        "#@markdown Please fill in the both the Google Cloud region and name for your Cloud SQL instance. Once filled in, run the cell.\n",
        "\n",
        "# Please fill in these values.\n",
        "region = \"us-central1\" #@param {type:\"string\"}\n",
        "instance_name = \"dream-to-stream-instance\" #@param {type:\"string\"}\n",
        "\n",
        "# Quick input validations.\n",
        "assert region, \"⚠️ Please provide a Google Cloud region\"\n",
        "assert instance_name, \"⚠️ Please provide the name of your instance\"\n",
        "\n",
        "# check if Cloud SQL instance exists in the provided region\n",
        "database_version = !gcloud sql instances describe {instance_name} --format=\"value(databaseVersion)\"\n",
        "if database_version[0].startswith(\"MYSQL\"):\n",
        "  print(\"Found existing MySQL Cloud SQL Instance!\")\n",
        "else:\n",
        "  print(\"Creating new Cloud SQL instance...\")\n",
        "  password = input(\"Please provide a password to be used for database 'root' user: \")\n",
        "  !gcloud sql instances create {instance_name} --database-version=MYSQL_8_0 \\\n",
        "    --region={region} --cpu=1 --memory=4GB --root-password={password} \\\n",
        "    --database-flags=cloudsql_iam_authentication=On"
      ],
      "metadata": {
        "cellView": "form",
        "id": "_vIX7rNtVLhn",
        "colab": {
          "base_uri": "https://localhost:8080/"
        },
        "outputId": "0de14806-599c-4ca6-f923-35cf0fd18c70"
      },
      "execution_count": 19,
      "outputs": [
        {
          "output_type": "stream",
          "name": "stdout",
          "text": [
            "Found existing MySQL Cloud SQL Instance!\n"
          ]
        }
      ]
    },
    {
      "cell_type": "markdown",
      "metadata": {
        "id": "nzb0dFO6C4h6"
      },
      "source": [
        "### 🥪 Create a Sandwiches Database\n",
        "A `sandwiches` database will be used in later steps when connecting to and querying a Cloud SQL database.\n",
        "\n",
        "To create a `sandwiches` database within your Cloud SQL instance run the below command:"
      ]
    },
    {
      "cell_type": "code",
      "source": [
        "!gcloud sql databases create sandwiches --instance={instance_name}"
      ],
      "metadata": {
        "id": "0q5uFF0sJnWK",
        "colab": {
          "base_uri": "https://localhost:8080/"
        },
        "outputId": "a43f75f5-cebb-4e55-d899-18eda7adbe45"
      },
      "execution_count": null,
      "outputs": [
        {
          "output_type": "stream",
          "name": "stdout",
          "text": [
            "\u001b[1;31mERROR:\u001b[0m (gcloud.sql.databases.create) HTTPError 400: Invalid request: couldn't create database: Error 1007: Can't create database 'sandwiches'; database exists.\n"
          ]
        }
      ]
    },
    {
      "cell_type": "markdown",
      "metadata": {
        "id": "lcdZH4rANv6C"
      },
      "source": [
        "### 🧑‍🍳 Create a Chef Database User\n",
        "To create the `chef` database user that is used throughout the notebook, run the following `gcloud` command."
      ]
    },
    {
      "cell_type": "code",
      "metadata": {
        "id": "9NYmcepFOM12"
      },
      "source": [
        "!gcloud sql users create chef \\\n",
        "  --instance={instance_name} \\\n",
        "  --password=\"food\""
      ],
      "execution_count": null,
      "outputs": []
    },
    {
      "cell_type": "markdown",
      "source": [
        "<img src='https://i.pinimg.com/originals/12/64/dd/1264dd5ff31fbc65c5edbb5e1a71830e.gif' class=\"center\"/>\n"
      ],
      "metadata": {
        "id": "a6YhWRAn1KL9"
      }
    },
    {
      "cell_type": "markdown",
      "source": [
        "## 🐍 Python Connector Usage\n",
        "Let's now connect to Cloud SQL using the Python Connector! 🚀 ⭐ 🐍"
      ],
      "metadata": {
        "id": "DDmBkH-HOQG5"
      }
    },
    {
      "cell_type": "markdown",
      "metadata": {
        "id": "8nqEsalPGETZ"
      },
      "source": [
        "### 🎟 **Configuring Credentials**\n",
        "The Cloud SQL Python Connector uses [**Application Default Credentials (ADC)**](https://cloud.google.com/docs/authentication) strategy for resolving credentials.\n",
        "\n",
        "> 💡 Using the Python Connector in Cloud Run, App Engine, or Cloud Functions will automatically use the service account deployed with each service, allowing this step to be skipped. ✅\n",
        "\n",
        "Please see the [google.auth](https://google-auth.readthedocs.io/en/master/reference/google.auth.html) package documentation for more information on how these credentials are sourced.\n",
        "\n",
        "This means setting default credentials was previously done for you when you ran:\n",
        "```python\n",
        "from google.colab import auth\n",
        "\n",
        "auth.authenticate_user()\n",
        "```\n"
      ]
    },
    {
      "cell_type": "markdown",
      "metadata": {
        "id": "6CqBnkLLCDFz"
      },
      "source": [
        "### 💻 **Install Code Dependencies**\n",
        "It is recommended to use the Connector alongside a library that can create connection pools, such as [SQLAlchemy](https://www.sqlalchemy.org/).\n",
        "This will allow for connections to remain open and be reused, reducing connection overhead and the number of connections needed\n",
        "\n",
        "Let's `pip install` the [Cloud SQL Python Connector](https://github.com/GoogleCloudPlatform/cloud-sql-python-connector) as well as [SQLAlchemy](https://www.sqlalchemy.org/), using the below command."
      ]
    },
    {
      "cell_type": "code",
      "metadata": {
        "id": "N6VmyKU7CCaK",
        "colab": {
          "base_uri": "https://localhost:8080/"
        },
        "outputId": "635dcc99-5bff-46d5-df09-39663db32f67"
      },
      "source": [
        "# install dependencies\n",
        "import sys\n",
        "!{sys.executable} -m pip install cloud-sql-python-connector[\"pymysql\"] SQLAlchemy==2.0.2"
      ],
      "execution_count": 20,
      "outputs": [
        {
          "output_type": "stream",
          "name": "stdout",
          "text": [
            "Looking in indexes: https://pypi.org/simple, https://us-python.pkg.dev/colab-wheels/public/simple/\n",
            "Requirement already satisfied: cloud-sql-python-connector[pymysql] in /usr/local/lib/python3.8/dist-packages (1.2.0)\n",
            "Requirement already satisfied: SQLAlchemy==2.0.2 in /usr/local/lib/python3.8/dist-packages (2.0.2)\n",
            "Requirement already satisfied: greenlet!=0.4.17 in /usr/local/lib/python3.8/dist-packages (from SQLAlchemy==2.0.2) (2.0.2)\n",
            "Requirement already satisfied: typing-extensions>=4.2.0 in /usr/local/lib/python3.8/dist-packages (from SQLAlchemy==2.0.2) (4.5.0)\n",
            "Requirement already satisfied: cryptography>=38.0.3 in /usr/local/lib/python3.8/dist-packages (from cloud-sql-python-connector[pymysql]) (39.0.1)\n",
            "Requirement already satisfied: Requests in /usr/local/lib/python3.8/dist-packages (from cloud-sql-python-connector[pymysql]) (2.25.1)\n",
            "Requirement already satisfied: aiohttp in /usr/local/lib/python3.8/dist-packages (from cloud-sql-python-connector[pymysql]) (3.8.4)\n",
            "Requirement already satisfied: google-auth in /usr/local/lib/python3.8/dist-packages (from cloud-sql-python-connector[pymysql]) (2.16.0)\n",
            "Requirement already satisfied: PyMySQL==1.0.2 in /usr/local/lib/python3.8/dist-packages (from cloud-sql-python-connector[pymysql]) (1.0.2)\n",
            "Requirement already satisfied: cffi>=1.12 in /usr/local/lib/python3.8/dist-packages (from cryptography>=38.0.3->cloud-sql-python-connector[pymysql]) (1.15.1)\n",
            "Requirement already satisfied: async-timeout<5.0,>=4.0.0a3 in /usr/local/lib/python3.8/dist-packages (from aiohttp->cloud-sql-python-connector[pymysql]) (4.0.2)\n",
            "Requirement already satisfied: multidict<7.0,>=4.5 in /usr/local/lib/python3.8/dist-packages (from aiohttp->cloud-sql-python-connector[pymysql]) (6.0.4)\n",
            "Requirement already satisfied: yarl<2.0,>=1.0 in /usr/local/lib/python3.8/dist-packages (from aiohttp->cloud-sql-python-connector[pymysql]) (1.8.2)\n",
            "Requirement already satisfied: aiosignal>=1.1.2 in /usr/local/lib/python3.8/dist-packages (from aiohttp->cloud-sql-python-connector[pymysql]) (1.3.1)\n",
            "Requirement already satisfied: charset-normalizer<4.0,>=2.0 in /usr/local/lib/python3.8/dist-packages (from aiohttp->cloud-sql-python-connector[pymysql]) (3.0.1)\n",
            "Requirement already satisfied: attrs>=17.3.0 in /usr/local/lib/python3.8/dist-packages (from aiohttp->cloud-sql-python-connector[pymysql]) (22.2.0)\n",
            "Requirement already satisfied: frozenlist>=1.1.1 in /usr/local/lib/python3.8/dist-packages (from aiohttp->cloud-sql-python-connector[pymysql]) (1.3.3)\n",
            "Requirement already satisfied: pyasn1-modules>=0.2.1 in /usr/local/lib/python3.8/dist-packages (from google-auth->cloud-sql-python-connector[pymysql]) (0.2.8)\n",
            "Requirement already satisfied: cachetools<6.0,>=2.0.0 in /usr/local/lib/python3.8/dist-packages (from google-auth->cloud-sql-python-connector[pymysql]) (5.3.0)\n",
            "Requirement already satisfied: six>=1.9.0 in /usr/local/lib/python3.8/dist-packages (from google-auth->cloud-sql-python-connector[pymysql]) (1.15.0)\n",
            "Requirement already satisfied: rsa<5,>=3.1.4 in /usr/local/lib/python3.8/dist-packages (from google-auth->cloud-sql-python-connector[pymysql]) (4.9)\n",
            "Requirement already satisfied: chardet<5,>=3.0.2 in /usr/local/lib/python3.8/dist-packages (from Requests->cloud-sql-python-connector[pymysql]) (4.0.0)\n",
            "Requirement already satisfied: certifi>=2017.4.17 in /usr/local/lib/python3.8/dist-packages (from Requests->cloud-sql-python-connector[pymysql]) (2022.12.7)\n",
            "Requirement already satisfied: urllib3<1.27,>=1.21.1 in /usr/local/lib/python3.8/dist-packages (from Requests->cloud-sql-python-connector[pymysql]) (1.24.3)\n",
            "Requirement already satisfied: idna<3,>=2.5 in /usr/local/lib/python3.8/dist-packages (from Requests->cloud-sql-python-connector[pymysql]) (2.10)\n",
            "Requirement already satisfied: pycparser in /usr/local/lib/python3.8/dist-packages (from cffi>=1.12->cryptography>=38.0.3->cloud-sql-python-connector[pymysql]) (2.21)\n",
            "Requirement already satisfied: pyasn1<0.5.0,>=0.4.6 in /usr/local/lib/python3.8/dist-packages (from pyasn1-modules>=0.2.1->google-auth->cloud-sql-python-connector[pymysql]) (0.4.8)\n"
          ]
        }
      ]
    },
    {
      "cell_type": "markdown",
      "metadata": {
        "id": "Y33XoYC2H7Hz"
      },
      "source": [
        "## 🐬 **Connect to a MySQL Instance**\n",
        "We are now ready to connect to a MySQL instance using the Cloud SQL Python Connector! 🐍 ⭐ ☁\n"
      ]
    },
    {
      "cell_type": "markdown",
      "source": [
        "Let's set some parameters that are needed to connect properly to a Cloud SQL instance:\n",
        "*   `INSTANCE_CONNECTION_NAME` : The connection name to your Cloud SQL Instance, takes the form `PROJECT_ID:REGION:INSTANCE_NAME`.\n",
        "*   `DB_USER` : The user in which the connector will use to connect to the database.\n",
        "*   `DB_PASS` : The password of the DB_USER.\n",
        "*   `DB_NAME` : The name of the database on the Cloud SQL instance to connect to."
      ],
      "metadata": {
        "id": "UJRfOmPd3bLt"
      }
    },
    {
      "cell_type": "code",
      "metadata": {
        "id": "wfEvH386zX2V"
      },
      "source": [
        "# initialize parameters\n",
        "INSTANCE_CONNECTION_NAME = f\"dream-to-stream:us-central1:dream-to-stream-instance\" # i.e demo-project:us-central1:demo-instance\n",
        "#print(f\"Your instance connection name is: {INSTANCE_CONNECTION_NAME}\")\n",
        "DB_USER = \"root\"\n",
        "DB_PASS = \"dreamToStream\"\n",
        "DB_NAME = \"dreamToStream\""
      ],
      "execution_count": 21,
      "outputs": []
    },
    {
      "cell_type": "markdown",
      "metadata": {
        "id": "oy9p883bqafB"
      },
      "source": [
        "### ✅ **Basic Usage**\n",
        "To connect to Cloud SQL using the connector, initialize a `Connector` object and call its `connect` method with the proper input parameters.\n",
        "\n",
        "The `connect` method takes in the parameters we previously defined, as well as a few additional parameters such as:\n",
        "*   `driver`: The name of the database driver to connect with.\n",
        "*   `ip_type` (optional): The IP type (public or private)  used to connect. IP types can be either `IPTypes.PUBLIC` or `IPTypes.PRIVATE`. ([Example](#scrollTo=yjAPpIDdRfu2))\n",
        "*   `enable_iam_auth`: (optional) Boolean enabling IAM based authentication. ([Example](#scrollTo=GpVKrv0TCXje))\n",
        "\n",
        "Let's show an example! 🤘 🙌"
      ]
    },
    {
      "cell_type": "code",
      "metadata": {
        "id": "UzHaM-6TXO8h"
      },
      "source": [
        "from google.cloud.sql.connector import Connector\n",
        "import sqlalchemy\n",
        "\n",
        "# initialize Connector object\n",
        "connector = Connector()\n",
        "\n",
        "# function to return the database connection object\n",
        "def getconn():\n",
        "    conn = connector.connect(\n",
        "        INSTANCE_CONNECTION_NAME,\n",
        "        \"pymysql\",\n",
        "        user=DB_USER,\n",
        "        password=DB_PASS,\n",
        "        db=DB_NAME\n",
        "    )\n",
        "    return conn\n",
        "\n",
        "# create connection pool with 'creator' argument to our connection object function\n",
        "pool = sqlalchemy.create_engine(\n",
        "    \"mysql+pymysql://\",\n",
        "    creator=getconn,\n",
        ")"
      ],
      "execution_count": 22,
      "outputs": []
    },
    {
      "cell_type": "code",
      "source": [
        "# connect to connection pool\n",
        "with pool.connect() as db_conn:\n",
        "  # create ratings table in our sandwiches database\n",
        "  import csv\n",
        "\n",
        "  filename = 'all_movies.csv'\n",
        "\n",
        "  with open(filename, 'r') as csvfile:\n",
        "    datareader = csv.reader(csvfile)\n",
        "    insert_stmt = sqlalchemy.text(\n",
        "       \"INSERT INTO Movies (name, length, genre, rating, releaseYear, location, serverId) VALUES (:name, :length, :genre, :rating, :releaseYear, :location, :serverId)\",\n",
        "   )\n",
        "  \n",
        "  import re\n",
        "\n",
        "def extract_numbers(string):\n",
        "    pattern = r'\\d+' # \\d matches any digit, + matches one or more occurrences\n",
        "    numbers = re.findall(pattern, string) # find all non-overlapping matches\n",
        "    return ''.join(numbers) # combine the matched numbers into a string\n",
        "\n",
        "  # PLATFORM INSERT:\n",
        "  #   insert_stmt_platform = sqlalchemy.text(\n",
        "  #      \"INSERT INTO Platform (serverId, availability, platform) VALUES (:serverId, :availability, :platform)\",\n",
        "  #  )\n",
        "  #   for i in range(17000):\n",
        "  #       db_conn.execute(insert_stmt_platform, parameters={\"serverId\": i, \"availability\": \"available\", \"platform\": \"netflix\"})\n",
        "  #       db_conn.commit()\n",
        "    \n",
        "    flag = 1\n",
        "    for row in datareader:\n",
        "        #for name, location, releaseYear, rating, length, genre, service, serverId in row:\n",
        "        #    0        1        2            3       4      5      6         7\n",
        "        if flag == 1:\n",
        "          flag = 0\n",
        "          continue\n",
        "\n",
        "        else:\n",
        "          \n",
        "          db_conn.execute(insert_stmt, parameters={\"name\": str(row[0]), \"length\": int(extract_numbers(row[4])), \"genre\": row[5], \"rating\": (row[3]), \"releaseYear\": (row[2]), \"location\": str(row[1]), \"serverId\": (row[7])})\n",
        "          db_conn.commit()\n",
        "  # db_conn.execute(\n",
        "  #   sqlalchemy.text(\n",
        "  #     \"CREATE TABLE IF NOT EXISTS ratings \"\n",
        "  #     \"( id SERIAL NOT NULL, name VARCHAR(255) NOT NULL, \"\n",
        "  #     \"origin VARCHAR(255) NOT NULL, rating FLOAT NOT NULL, \"\n",
        "  #     \"PRIMARY KEY (id));\"\n",
        "  #   )\n",
        "  # )\n",
        "  # # insert data into our ratings table\n",
        "  # insert_stmt = sqlalchemy.text(\n",
        "  #     \"INSERT INTO ratings (name, origin, rating) VALUES (:name, :origin, :rating)\",\n",
        "  # )\n",
        "\n",
        "  # # insert entries into table\n",
        "  # db_conn.execute(insert_stmt, parameters={\"name\": \"HOTDOG\", \"origin\": \"Germany\", \"rating\": 7.5})\n",
        "  # db_conn.execute(insert_stmt, parameters={\"name\": \"BÀNH MÌ\", \"origin\": \"Vietnam\", \"rating\": 9.1})\n",
        "  # db_conn.execute(insert_stmt, parameters={\"name\": \"CROQUE MADAME\", \"origin\": \"France\", \"rating\": 8.3})\n",
        "  # db_conn.commit()\n",
        "\n",
        "  # # query and fetch ratings table\n",
        "  # results = db_conn.execute(sqlalchemy.text(\"SELECT * FROM ratings\")).fetchall()\n",
        "\n",
        "  # # show results\n",
        "  # for row in results:\n",
        "  #   print(row)\n"
      ],
      "metadata": {
        "id": "ya0E1coEGJP2"
      },
      "execution_count": null,
      "outputs": []
    },
    {
      "cell_type": "markdown",
      "metadata": {
        "id": "oGHHHf5p3lC6"
      },
      "source": [
        "To use this connector with SQLAlchemy, we use the `creator` argument for `sqlalchemy.create_engine`\n",
        "\n",
        "Now that we have established a connection pool, let's write a query! 🎉 📝"
      ]
    },
    {
      "cell_type": "code",
      "metadata": {
        "id": "D3xMRsBl3Ihl"
      },
      "source": [
        "#Movie Insert\n",
        "# connect to connection pool\n",
        "with pool.connect() as db_conn:\n",
        "  # create ratings table in our sandwiches database\n",
        "  import csv\n",
        "  import re\n",
        "\n",
        "  def extract_numbers(string):\n",
        "      pattern = r'\\d+' # \\d matches any digit, + matches one or more occurrences\n",
        "      numbers = re.findall(pattern, string) # find all non-overlapping matches\n",
        "      return ''.join(numbers) # combine the matched numbers into a string\n",
        "\n",
        "  filename = 'all_movies.csv'\n",
        "\n",
        "  with open(filename, 'r') as csvfile:\n",
        "    datareader = csv.reader(csvfile)\n",
        "    insert_stmt = sqlalchemy.text(\n",
        "       \"INSERT INTO Movies (name, length, genre, rating, releaseYear, location, serverId) VALUES (:name, :length, :genre, :rating, :releaseYear, :location, :serverId)\",\n",
        "   )\n",
        "      \n",
        "    flag = 1\n",
        "    for row in datareader:\n",
        "        #for name, location, releaseYear, rating, length, genre, service, serverId in row:\n",
        "        #    0        1        2            3       4      5      6         7\n",
        "        if flag == 1:\n",
        "          flag = 0\n",
        "          continue\n",
        "\n",
        "        else:\n",
        "          \n",
        "          db_conn.execute(insert_stmt, parameters={\"name\": str(row[0]), \"length\": int(extract_numbers(row[4])), \"genre\": row[5], \"rating\": (row[3]), \"releaseYear\": (row[2]), \"location\": str(row[1]), \"serverId\": (row[7])})\n",
        "          db_conn.commit()\n"
      ],
      "execution_count": null,
      "outputs": []
    },
    {
      "cell_type": "code",
      "source": [
        "#TV INSERT\n",
        "# connect to connection pool\n",
        "with pool.connect() as db_conn:\n",
        "  # create ratings table in our sandwiches database\n",
        "  import csv\n",
        "  import re\n",
        "\n",
        "  def extract_numbers(string):\n",
        "      pattern = r'\\d+' # \\d matches any digit, + matches one or more occurrences\n",
        "      numbers = re.findall(pattern, string) # find all non-overlapping matches\n",
        "      return ''.join(numbers) # combine the matched numbers into a string\n",
        "\n",
        "  filename = 'all_tv.csv'\n",
        "\n",
        "  with open(filename, 'r') as csvfile:\n",
        "    datareader = csv.reader(csvfile)\n",
        "    insert_stmt = sqlalchemy.text(\n",
        "       \"INSERT INTO Shows (name, length, genre, rating, releaseYear, location, serverId) VALUES (:name, :length, :genre, :rating, :releaseYear, :location, :serverId)\",\n",
        "   )\n",
        "      \n",
        "    flag = 1\n",
        "    for row in datareader:\n",
        "        #for name, location, releaseYear, rating, length, genre, service, serverId in row:\n",
        "        #    0        1        2            3       4      5      6         7\n",
        "        if flag == 1:\n",
        "          flag = 0\n",
        "          continue\n",
        "\n",
        "        else:\n",
        "          \n",
        "          db_conn.execute(insert_stmt, parameters={\"name\": str(row[0]), \"length\": int(extract_numbers(row[4])), \"genre\": row[5], \"rating\": (row[3]), \"releaseYear\": (row[2]), \"location\": str(row[1]), \"serverId\": (row[7])})\n",
        "          db_conn.commit()\n"
      ],
      "metadata": {
        "id": "XG4byWcoLOvr"
      },
      "execution_count": null,
      "outputs": []
    },
    {
      "cell_type": "code",
      "source": [
        "#Director INSERT\n",
        "# connect to connection pool\n",
        "with pool.connect() as db_conn:\n",
        "  # create ratings table in our sandwiches database\n",
        "  import csv\n",
        "  import re\n",
        "\n",
        "  def extract_numbers(string):\n",
        "      pattern = r'\\d+' # \\d matches any digit, + matches one or more occurrences\n",
        "      numbers = re.findall(pattern, string) # find all non-overlapping matches\n",
        "      return ''.join(numbers) # combine the matched numbers into a string\n",
        "\n",
        "  filename = 'cast_movie.csv'\n",
        "\n",
        "  with open(filename, 'r') as csvfile:\n",
        "    datareader = csv.reader(csvfile)\n",
        "    insert_stmt = sqlalchemy.text(\n",
        "       \"INSERT IGNORE INTO Cast (firstName, lastName) VALUES (:firstName, :lastName)\",\n",
        "   )\n",
        "      \n",
        "    flag = 1\n",
        "    for row in datareader:\n",
        "        #for name, location, releaseYear, rating, length, genre, service, serverId in row:\n",
        "        #    0        1        2            3       4      5      6         7\n",
        "        if flag == 1:\n",
        "          flag = 0\n",
        "          continue\n",
        "\n",
        "        else:\n",
        "          \n",
        "          db_conn.execute(insert_stmt, parameters={\"firstName\": str(row[0]), \"lastName\": str((row[1]))})\n",
        "          db_conn.commit()\n"
      ],
      "metadata": {
        "id": "Mb8PXYkRZ_mb"
      },
      "execution_count": null,
      "outputs": []
    },
    {
      "cell_type": "code",
      "source": [
        "    # PLATFORM INSERT:\n",
        "  #with pool.connect() as db_conn:\n",
        "  #   insert_stmt_platform = sqlalchemy.text(\n",
        "  #      \"INSERT INTO Platform (serverId, availability, platform) VALUES (:serverId, :availability, :platform)\",\n",
        "  #  )\n",
        "  #   for i in range(17000):\n",
        "  #       db_conn.execute(insert_stmt_platform, parameters={\"serverId\": i, \"availability\": \"available\", \"platform\": \"netflix\"})\n",
        "  #       db_conn.commit()"
      ],
      "metadata": {
        "id": "wAzYS0KcK_f_"
      },
      "execution_count": null,
      "outputs": []
    },
    {
      "cell_type": "markdown",
      "source": [
        "You have successfully been able to connect to a Cloud SQL instance from this notebook and make a query. YOU DID IT! 🕺 🎊 💃\n",
        "\n",
        "<img src=https://media.giphy.com/media/MtHGs1yo4FFKrIs55L/giphy.gif />"
      ],
      "metadata": {
        "id": "HaoCW42OY4vY"
      }
    },
    {
      "cell_type": "markdown",
      "source": [
        "To close the `Connector` object's background resources, call it's `close() ` method at the end of your code as follows:\n"
      ],
      "metadata": {
        "id": "y4Zhx6YAitjw"
      }
    },
    {
      "cell_type": "code",
      "source": [
        "# cleanup connector object\n",
        "connector.close()"
      ],
      "metadata": {
        "id": "PNyc9cwVir4M"
      },
      "execution_count": null,
      "outputs": []
    },
    {
      "cell_type": "markdown",
      "metadata": {
        "id": "GCsS4f5UCYUa"
      },
      "source": [
        "### 🪪  IAM Database Authentication\n",
        "\n",
        "[Automatic IAM database authentication](https://cloud.google.com/sql/docs/mysql/authentication#automatic) is supported for **MySQL** Cloud SQL instances.\n",
        "\n",
        "> 💡 This allows an IAM user to establish an authenticated connection to a MySQL database without having to set a password and enabling the `enable_iam_auth` parameter in the connector's `connect` method.\n",
        "\n",
        "> 🚨 If you are using a pre-existing Cloud SQL instance within this notebook you may need to [configure Cloud SQL instance to allow IAM authentication](https://cloud.google.com/sql/docs/mysql/create-edit-iam-instances#configuring_existing_instances_for) by setting the `cloudsql_iam_authentication` database flag to `On`.\n",
        "(Cloud SQL instances created within this notebook already have it enabled)\n"
      ]
    },
    {
      "cell_type": "markdown",
      "source": [
        "IAM principals wanting to use IAM authentication to connect to a Cloud SQL instance require the `Cloud SQL Instance User` and `Cloud SQL Client` IAM role.\n",
        "\n",
        "Let's add the Cloud SQL Instance User role to the IAM account logged into this notebook. (Client role previously granted)"
      ],
      "metadata": {
        "id": "vDhbkGONmj3x"
      }
    },
    {
      "cell_type": "code",
      "source": [
        "# add Cloud SQL Instance User role to current logged in IAM user\n",
        "!gcloud projects add-iam-policy-binding {project_id} \\\n",
        "  --member=user:{current_user[0]} \\\n",
        "  --role=\"roles/cloudsql.instanceUser\""
      ],
      "metadata": {
        "id": "kSWv-OcjknAx"
      },
      "execution_count": null,
      "outputs": []
    },
    {
      "cell_type": "markdown",
      "source": [
        "Now the current IAM user can be added to the Cloud SQL instance as an IAM database user."
      ],
      "metadata": {
        "id": "UmKaFSl3nMFx"
      }
    },
    {
      "cell_type": "code",
      "source": [
        "# add current logged in IAM user to database\n",
        "!gcloud sql users create {current_user[0]} \\\n",
        "  --instance={instance_name} \\\n",
        "  --type=cloud_iam_user"
      ],
      "metadata": {
        "id": "0CnzkOianTNN"
      },
      "execution_count": null,
      "outputs": []
    },
    {
      "cell_type": "markdown",
      "source": [
        "Finally, let's update our `getconn` function to connect to our Cloud SQL instance with IAM database authentication enabled.\n",
        "\n",
        "> ⚠️ The below sample is a limited example as it logs in to the Cloud SQL instance and outputs the current time. By default new IAM database users have no permissions on a Cloud SQL instance. To connect to specific tables and perform more complex queries, permissions must be granted at the database level. ([Grant Database Privileges to the IAM user](https://cloud.google.com/sql/docs/mysql/add-manage-iam-users#grant-db-privileges))"
      ],
      "metadata": {
        "id": "6PlLF_Jkm9uX"
      }
    },
    {
      "cell_type": "code",
      "metadata": {
        "id": "GpVKrv0TCXje"
      },
      "source": [
        "from google.cloud.sql.connector import Connector\n",
        "import google.auth\n",
        "from google.auth.transport.requests import Request\n",
        "import sqlalchemy\n",
        "\n",
        "# IAM database user parameter (IAM user's email before the \"@\" sign, mysql truncates usernames)\n",
        "# ex. IAM user with email \"demo-user@test.com\" would have database username \"demo-user\"\n",
        "IAM_USER = current_user[0].split(\"@\")[0]\n",
        "\n",
        "# initialize connector\n",
        "connector = Connector()\n",
        "\n",
        "# getconn now using IAM user and requiring no password with IAM Auth enabled\n",
        "def getconn():\n",
        "    conn = connector.connect(\n",
        "      INSTANCE_CONNECTION_NAME,\n",
        "      \"pymysql\",\n",
        "      user=IAM_USER,\n",
        "      db=\"\", # log in to instance but don't connect to specific database\n",
        "      enable_iam_auth=True\n",
        "    )\n",
        "    return conn\n",
        "\n",
        "# create connection pool\n",
        "pool = sqlalchemy.create_engine(\n",
        "    \"mysql+pymysql://\",\n",
        "    creator=getconn,\n",
        ")\n",
        "\n",
        "# connect to connection pool\n",
        "with pool.connect() as db_conn:\n",
        "    # get current datetime from database\n",
        "    results = db_conn.execute(sqlalchemy.text(\"SELECT NOW()\")).fetchone()\n",
        "\n",
        "    # output time\n",
        "    print(\"Current time: \", results[0])\n",
        "\n",
        "# cleanup connector\n",
        "connector.close()"
      ],
      "execution_count": null,
      "outputs": []
    },
    {
      "cell_type": "markdown",
      "metadata": {
        "id": "lQS46x0yXdz7"
      },
      "source": [
        "Sucess! You were able to connect to Cloud SQL as an IAM authenticated user using the Cloud SQL Python Connector! 🍾 👏 🏆\n",
        "\n",
        "<img src=\"https://media.giphy.com/media/YTbZzCkRQCEJa/giphy.gif\" />"
      ]
    },
    {
      "cell_type": "markdown",
      "source": [
        "## 🗑 Clean Up Notebook Resources\n",
        "Make sure to delete your Cloud SQL instance when your are finished with this notebook to avoid further costs. 💸 💰"
      ],
      "metadata": {
        "id": "2giQFUUCttsK"
      }
    },
    {
      "cell_type": "code",
      "source": [
        "# delete Cloud SQL instance\n",
        "!gcloud sql instances delete {instance_name}"
      ],
      "metadata": {
        "id": "a9IemuS-uJad"
      },
      "execution_count": null,
      "outputs": []
    },
    {
      "cell_type": "markdown",
      "metadata": {
        "id": "3Sr-HY6EM8Sk"
      },
      "source": [
        "## ✍ **Appendix**\n",
        "Additional information provided for connecting to a Cloud SQL instance using private IP connections.\n"
      ]
    },
    {
      "cell_type": "markdown",
      "metadata": {
        "id": "yjAPpIDdRfu2"
      },
      "source": [
        "### 🔒 **Using Private IP Connections**\n",
        "By default the connector connects to the Cloud SQL instance database using a Public IP address.\n",
        "\n",
        "**Private IP** connections are also supported by the connector and can be easily enabled through the `ip_type` parameter in the connector's `connect` method.\n",
        "\n",
        "> ⚠️ To connect via Private IP, the Cloud SQL instance being connected to must have a Private IP address configured within a VPC Network. ([How to Configure Private IP](https://cloud.google.com/sql/docs/mysql/configure-private-ip))\n",
        "\n",
        "> 🚫 The below cell is a working sample but will not work within this notebook as the notebook is not within your VPC Network! The cell should be copied into an environment (Cloud Run, Cloud Functions, App Engine etc.) that has access to the VPC Network.\n",
        "\n",
        " > [Connecting Cloud Run to a VPC Network](https://cloud.google.com/run/docs/configuring/connecting-vpc)\n",
        "\n",
        "Let's update our `getconn` function to connect to our Cloud SQL instance with Private IP."
      ]
    },
    {
      "cell_type": "code",
      "metadata": {
        "id": "-ztQIV-wUVZP"
      },
      "source": [
        "from google.cloud.sql.connector import Connector, IPTypes\n",
        "import sqlalchemy\n",
        "\n",
        "# initialize connector\n",
        "connector = Connector()\n",
        "\n",
        "# getconn now set to private IP\n",
        "def getconn():\n",
        "    conn = connector.connect(\n",
        "      INSTANCE_CONNECTION_NAME, # <PROJECT-ID>:<REGION>:<INSTANCE-NAME>\n",
        "      \"pymysql\",\n",
        "      user=DB_USER,\n",
        "      password=DB_PASS,\n",
        "      db=DB_NAME,\n",
        "      ip_type=IPTypes.PRIVATE\n",
        "    )\n",
        "    return conn\n",
        "\n",
        "# create connection pool\n",
        "pool = sqlalchemy.create_engine(\n",
        "    \"mysql+pymysql://\",\n",
        "    creator=getconn,\n",
        ")\n",
        "\n",
        "# connect to connection pool\n",
        "with pool.connect() as db_conn:\n",
        "    # query database and fetch results\n",
        "    results = db_conn.execute(sqlalchemy.text(\"SELECT * FROM ratings\")).fetchall()\n",
        "\n",
        "    # show results\n",
        "    for row in results:\n",
        "        print(row)\n",
        "\n",
        "# cleanup connector\n",
        "connector.close()"
      ],
      "execution_count": null,
      "outputs": []
    }
  ]
}